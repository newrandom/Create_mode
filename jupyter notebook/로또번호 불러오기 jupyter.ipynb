{
 "cells": [
  {
   "cell_type": "markdown",
   "metadata": {},
   "source": [
    "# 로또번호 데이터 스크래핑\n"
   ]
  },
  {
   "cell_type": "code",
   "execution_count": 1,
   "metadata": {},
   "outputs": [],
   "source": [
    "import requests\n",
    "from bs4 import BeautifulSoup\n",
    "from selenium import webdriver\n",
    "from selenium.webdriver.common.by import By\n",
    "from selenium.webdriver.common.keys import Keys\n",
    "from selenium.webdriver.support.select import Select\n",
    "\n",
    "url = 'https://www.dhlottery.co.kr/gameResult.do?method=byWin'\n",
    "response = requests.get(url)\n",
    "html = response.text\n",
    "soup = BeautifulSoup(html, 'html.parser')"
   ]
  },
  {
   "cell_type": "code",
   "execution_count": 2,
   "metadata": {},
   "outputs": [
    {
     "name": "stdout",
     "output_type": "stream",
     "text": [
      "1 1023\n"
     ]
    }
   ],
   "source": [
    "# 로또회차 리스트\n",
    "lot_no = soup.find(id='dwrNoList').text.split('\\n')\n",
    "lot_no = lot_no[1:-1]\n",
    "print(lot_no[-1], lot_no[0])\n"
   ]
  },
  {
   "cell_type": "code",
   "execution_count": 7,
   "metadata": {},
   "outputs": [
    {
     "name": "stdout",
     "output_type": "stream",
     "text": [
      "1013\n",
      "1014\n",
      "1015\n",
      "1016\n",
      "1017\n",
      "1018\n",
      "1019\n",
      "1020\n",
      "1021\n",
      "1022\n",
      "1023\n"
     ]
    }
   ],
   "source": [
    "for i in lot_no[10::-1]:\n",
    "    print(i)"
   ]
  },
  {
   "cell_type": "code",
   "execution_count": 9,
   "metadata": {},
   "outputs": [
    {
     "name": "stderr",
     "output_type": "stream",
     "text": [
      "/var/folders/fd/5j5ym25j3gvbkwl_65fbg_2w0000gn/T/ipykernel_40307/2856298800.py:2: DeprecationWarning: executable_path has been deprecated, please pass in a Service object\n",
      "  driver = webdriver.Chrome('/Users/newrandom/Desktop/파이썬 연습/challenge/lotto_project/Create_mode/chromedriver')\n"
     ]
    }
   ],
   "source": [
    "# Chrome driver 실행\n",
    "driver = webdriver.Chrome('/Users/newrandom/Desktop/파이썬 연습/challenge/lotto_project/Create_mode/chromedriver')\n",
    "driver.get(url)"
   ]
  },
  {
   "cell_type": "code",
   "execution_count": 54,
   "metadata": {},
   "outputs": [
    {
     "ename": "TypeError",
     "evalue": "unhashable type: 'slice'",
     "output_type": "error",
     "traceback": [
      "\u001b[0;31m---------------------------------------------------------------------------\u001b[0m",
      "\u001b[0;31mTypeError\u001b[0m                                 Traceback (most recent call last)",
      "\u001b[1;32mUntitled-2.ipynb Cell 6'\u001b[0m in \u001b[0;36m<cell line: 22>\u001b[0;34m()\u001b[0m\n\u001b[1;32m     <a href='vscode-notebook-cell:Untitled-2.ipynb?jupyter-notebook#ch0000008untitled?line=18'>19</a>\u001b[0m         driver\u001b[39m.\u001b[39mimplicitly_wait(\u001b[39m3\u001b[39m)\n\u001b[1;32m     <a href='vscode-notebook-cell:Untitled-2.ipynb?jupyter-notebook#ch0000008untitled?line=19'>20</a>\u001b[0m     \u001b[39m# bo_num = '//*[@id=\"article\"]/div[2]/div/div[2]/div/div[2]/p/span'\u001b[39;00m\n\u001b[0;32m---> <a href='vscode-notebook-cell:Untitled-2.ipynb?jupyter-notebook#ch0000008untitled?line=21'>22</a>\u001b[0m df[:\u001b[39m5\u001b[39;49m]\n",
      "\u001b[0;31mTypeError\u001b[0m: unhashable type: 'slice'"
     ]
    }
   ],
   "source": [
    "# 로또 회차 조회\n",
    "df = {}\n",
    "for i in lot_no[::-1]:\n",
    "                # [start:end:term]\n",
    "\n",
    "    driver.find_element(By.XPATH, '//*[@id=\"dwrNoList\"]').send_keys(i)\n",
    "                            # 회차 리스트 선택하고 키 보내기\n",
    "    driver.find_element(By.XPATH, '//*[@id=\"searchBtn\"]').send_keys(Keys.ENTER)\n",
    "    driver.implicitly_wait(5)   # 브라우저 5초 대기\n",
    "\n",
    "    # ===== 로또번호 받아오기 ==== #\n",
    "    # 1. 회차정보 : i\n",
    "    # 2. 번호 받기\n",
    "    df[i] = []\n",
    "    for ball in range(1, 7):\n",
    "        ball_num = '//*[@id=\"article\"]/div[2]/div/div[2]/div/div[1]/p/span[{}]'.format(ball)\n",
    "\n",
    "        df[i].append(int(driver.find_element(By.XPATH, ball_num).text))\n",
    "        driver.implicitly_wait(3)\n",
    "    # bo_num = '//*[@id=\"article\"]/div[2]/div/div[2]/div/div[2]/p/span'"
   ]
  },
  {
   "cell_type": "code",
   "execution_count": 109,
   "metadata": {},
   "outputs": [],
   "source": [
    "# dataframe으로 저장하기\n",
    "import pandas as pd\n",
    "dataframe = pd.DataFrame(data=df)\n",
    "# dataframe.to_csv('lotto_result.csv')\n",
    "dataframe = dataframe.transpose()\n",
    "dataframe.to_csv('lotto_result.csv')\n",
    "dataframe.to_excel('lotto_result.xlsx')"
   ]
  },
  {
   "cell_type": "code",
   "execution_count": 110,
   "metadata": {},
   "outputs": [
    {
     "name": "stdout",
     "output_type": "stream",
     "text": [
      "<class 'pandas.core.frame.DataFrame'>\n",
      "Index: 1022 entries, 1 to 1022\n",
      "Data columns (total 6 columns):\n",
      " #   Column  Non-Null Count  Dtype\n",
      "---  ------  --------------  -----\n",
      " 0   0       1022 non-null   int64\n",
      " 1   1       1022 non-null   int64\n",
      " 2   2       1022 non-null   int64\n",
      " 3   3       1022 non-null   int64\n",
      " 4   4       1022 non-null   int64\n",
      " 5   5       1022 non-null   int64\n",
      "dtypes: int64(6)\n",
      "memory usage: 55.9+ KB\n"
     ]
    }
   ],
   "source": [
    "dataframe.info()"
   ]
  },
  {
   "cell_type": "code",
   "execution_count": 10,
   "metadata": {},
   "outputs": [],
   "source": [
    "driver.close()"
   ]
  },
  {
   "cell_type": "markdown",
   "metadata": {},
   "source": [
    "-------------------\n",
    "# 최신회차 정보 가져오기 == python 파일로 만들 것 (완료)"
   ]
  },
  {
   "cell_type": "code",
   "execution_count": 49,
   "metadata": {},
   "outputs": [
    {
     "name": "stdout",
     "output_type": "stream",
     "text": [
      "저장되어 있는 최신 회차 : 1022회\n",
      "최신 회차 : 1024회\n",
      "최신 회차 (1024)가 저장되어 있지 않습니다. (현재 저장되어있는 최신회차 : 1022회)\n",
      "{1023} 회차가 저장됩니다. ['10', '14', '16', '18', '29', '35']\n",
      "{1024} 회차가 저장됩니다. ['9', '18', '20', '22', '38', '44']\n"
     ]
    }
   ],
   "source": [
    "# import module\n",
    "import pandas as pd\n",
    "from selenium import * \n",
    "from selenium import webdriver\n",
    "from selenium.webdriver.common.by import By\n",
    "from selenium.webdriver.common.keys import Keys\n",
    "from selenium.webdriver.chrome.service import Service\n",
    "\n",
    "# read_csv\n",
    "dataframe = pd.read_csv('../result/lotto_result.csv', index_col = 0)\n",
    "latest_result = int(dataframe.iloc[-1].name)\n",
    "print('저장되어 있는 최신 회차 : {}회'.format(latest_result))\n",
    "\n",
    "# 로또 홈페이지 최신 회차 조회_1 : 홈페이지 접속\n",
    "service = Service('../chromedriver')        # == 추가 == # webdriver 의 service 활용\n",
    "url = 'https://www.dhlottery.co.kr/gameResult.do?method=byWin'\n",
    "driver = webdriver.Chrome(service=service)  # == 추가 == # 크롬드라이버 서비스 받아오기\n",
    "driver.get(url)\n",
    "\n",
    "# 로또 홈페이지 최신 회차 조회_2 : 최신회차조회\n",
    "new = int(driver.find_element(By.XPATH, '//*[@id=\"dwrNoList\"]').text.strip().split()[0])\n",
    "print('최신 회차 : {}회'.format(new))\n",
    "\n",
    "# 최신회차 검사\n",
    "if new in dataframe.index:\n",
    "    print('최신 회차 ({})가 저장되어 있습니다.'.format(new))\n",
    "\n",
    "else:\n",
    "    print('최신 회차 ({})가 저장되어 있지 않습니다. (현재 저장되어있는 최신회차 : {}회)'.format(new, latest_result))\n",
    "    q = int(input('최신회차 정보를 업데이트 하시겠습니까? (1 : yes, 2: no)'))\n",
    "    if q == 1:\n",
    "        \n",
    "        for i in range(latest_result+1, new+1):     # 저장된 최신회차+1 부터 신규 회차까지루프 > 데이터 저장\n",
    "            \n",
    "            driver.find_element(By.XPATH, '//*[@id=\"dwrNoList\"]').send_keys(i)\n",
    "            driver.implicitly_wait(10)\n",
    "            driver.find_element(By.XPATH, '//*[@id=\"searchBtn\"]').send_keys(Keys.ENTER)\n",
    "\n",
    "            nums = []\n",
    "            for _ in range(1, 7):\n",
    "                \n",
    "                # 신규 회차의 로또번호 6개\n",
    "                nums.append(driver.find_element(By.XPATH, '//*[@id=\"article\"]/div[2]/div/div[2]/div/div[1]/p/span[{}]'.format(_)).text)\n",
    "\n",
    "            print({i}, '회차가 저장됩니다.' , '{}'.format(nums))\n",
    "            dataframe.loc[dataframe.iloc[-1].name + 1] = nums\n",
    "        \n",
    "        dataframe.to_csv('../result/lotto_result.csv')      # 최신 정보 저장\n",
    "\n",
    "driver.close()"
   ]
  },
  {
   "cell_type": "markdown",
   "metadata": {},
   "source": [
    "--------------"
   ]
  },
  {
   "cell_type": "code",
   "execution_count": 47,
   "metadata": {},
   "outputs": [
    {
     "data": {
      "text/plain": [
       "0     9\n",
       "1    18\n",
       "2    20\n",
       "3    22\n",
       "4    38\n",
       "5    44\n",
       "Name: 1024, dtype: object"
      ]
     },
     "execution_count": 47,
     "metadata": {},
     "output_type": "execute_result"
    }
   ],
   "source": [
    "# dataframe.loc[1023] = [1,2,3,4,5,6]\n",
    "dataframe.loc[dataframe.iloc[-1].name]"
   ]
  },
  {
   "cell_type": "code",
   "execution_count": 39,
   "metadata": {},
   "outputs": [],
   "source": [
    "dataframe.drop(1023, inplace=True)"
   ]
  },
  {
   "cell_type": "code",
   "execution_count": 42,
   "metadata": {},
   "outputs": [
    {
     "data": {
      "text/html": [
       "<div>\n",
       "<style scoped>\n",
       "    .dataframe tbody tr th:only-of-type {\n",
       "        vertical-align: middle;\n",
       "    }\n",
       "\n",
       "    .dataframe tbody tr th {\n",
       "        vertical-align: top;\n",
       "    }\n",
       "\n",
       "    .dataframe thead th {\n",
       "        text-align: right;\n",
       "    }\n",
       "</style>\n",
       "<table border=\"1\" class=\"dataframe\">\n",
       "  <thead>\n",
       "    <tr style=\"text-align: right;\">\n",
       "      <th></th>\n",
       "      <th>0</th>\n",
       "      <th>1</th>\n",
       "      <th>2</th>\n",
       "      <th>3</th>\n",
       "      <th>4</th>\n",
       "      <th>5</th>\n",
       "    </tr>\n",
       "  </thead>\n",
       "  <tbody>\n",
       "    <tr>\n",
       "      <th>1</th>\n",
       "      <td>12</td>\n",
       "      <td>27</td>\n",
       "      <td>29</td>\n",
       "      <td>38</td>\n",
       "      <td>41</td>\n",
       "      <td>45</td>\n",
       "    </tr>\n",
       "    <tr>\n",
       "      <th>2</th>\n",
       "      <td>1</td>\n",
       "      <td>3</td>\n",
       "      <td>20</td>\n",
       "      <td>25</td>\n",
       "      <td>36</td>\n",
       "      <td>45</td>\n",
       "    </tr>\n",
       "    <tr>\n",
       "      <th>3</th>\n",
       "      <td>6</td>\n",
       "      <td>7</td>\n",
       "      <td>13</td>\n",
       "      <td>15</td>\n",
       "      <td>21</td>\n",
       "      <td>43</td>\n",
       "    </tr>\n",
       "    <tr>\n",
       "      <th>4</th>\n",
       "      <td>14</td>\n",
       "      <td>27</td>\n",
       "      <td>30</td>\n",
       "      <td>31</td>\n",
       "      <td>40</td>\n",
       "      <td>42</td>\n",
       "    </tr>\n",
       "    <tr>\n",
       "      <th>5</th>\n",
       "      <td>5</td>\n",
       "      <td>12</td>\n",
       "      <td>17</td>\n",
       "      <td>29</td>\n",
       "      <td>34</td>\n",
       "      <td>35</td>\n",
       "    </tr>\n",
       "    <tr>\n",
       "      <th>...</th>\n",
       "      <td>...</td>\n",
       "      <td>...</td>\n",
       "      <td>...</td>\n",
       "      <td>...</td>\n",
       "      <td>...</td>\n",
       "      <td>...</td>\n",
       "    </tr>\n",
       "    <tr>\n",
       "      <th>1018</th>\n",
       "      <td>3</td>\n",
       "      <td>19</td>\n",
       "      <td>21</td>\n",
       "      <td>25</td>\n",
       "      <td>37</td>\n",
       "      <td>45</td>\n",
       "    </tr>\n",
       "    <tr>\n",
       "      <th>1019</th>\n",
       "      <td>1</td>\n",
       "      <td>4</td>\n",
       "      <td>13</td>\n",
       "      <td>17</td>\n",
       "      <td>34</td>\n",
       "      <td>39</td>\n",
       "    </tr>\n",
       "    <tr>\n",
       "      <th>1020</th>\n",
       "      <td>12</td>\n",
       "      <td>27</td>\n",
       "      <td>29</td>\n",
       "      <td>38</td>\n",
       "      <td>41</td>\n",
       "      <td>45</td>\n",
       "    </tr>\n",
       "    <tr>\n",
       "      <th>1021</th>\n",
       "      <td>12</td>\n",
       "      <td>15</td>\n",
       "      <td>17</td>\n",
       "      <td>24</td>\n",
       "      <td>29</td>\n",
       "      <td>45</td>\n",
       "    </tr>\n",
       "    <tr>\n",
       "      <th>1022</th>\n",
       "      <td>5</td>\n",
       "      <td>6</td>\n",
       "      <td>11</td>\n",
       "      <td>29</td>\n",
       "      <td>42</td>\n",
       "      <td>45</td>\n",
       "    </tr>\n",
       "  </tbody>\n",
       "</table>\n",
       "<p>1022 rows × 6 columns</p>\n",
       "</div>"
      ],
      "text/plain": [
       "       0   1   2   3   4   5\n",
       "1     12  27  29  38  41  45\n",
       "2      1   3  20  25  36  45\n",
       "3      6   7  13  15  21  43\n",
       "4     14  27  30  31  40  42\n",
       "5      5  12  17  29  34  35\n",
       "...   ..  ..  ..  ..  ..  ..\n",
       "1018   3  19  21  25  37  45\n",
       "1019   1   4  13  17  34  39\n",
       "1020  12  27  29  38  41  45\n",
       "1021  12  15  17  24  29  45\n",
       "1022   5   6  11  29  42  45\n",
       "\n",
       "[1022 rows x 6 columns]"
      ]
     },
     "execution_count": 42,
     "metadata": {},
     "output_type": "execute_result"
    }
   ],
   "source": [
    "dataframe"
   ]
  },
  {
   "cell_type": "code",
   "execution_count": 48,
   "metadata": {},
   "outputs": [],
   "source": [
    "driver.close()"
   ]
  },
  {
   "cell_type": "code",
   "execution_count": 23,
   "metadata": {},
   "outputs": [
    {
     "name": "stdout",
     "output_type": "stream",
     "text": [
      "yes\n"
     ]
    }
   ],
   "source": [
    "if 1022 in dataframe.index:\n",
    "    print('yes')\n",
    "else:\n",
    "    print('no')"
   ]
  },
  {
   "cell_type": "code",
   "execution_count": 16,
   "metadata": {},
   "outputs": [],
   "source": [
    "driver.close()"
   ]
  },
  {
   "cell_type": "code",
   "execution_count": 218,
   "metadata": {},
   "outputs": [
    {
     "name": "stdout",
     "output_type": "stream",
     "text": [
      "저장되어 있는 최신 회차 : 1022회\n"
     ]
    },
    {
     "name": "stderr",
     "output_type": "stream",
     "text": [
      "/var/folders/fd/5j5ym25j3gvbkwl_65fbg_2w0000gn/T/ipykernel_21906/820949709.py:15: DeprecationWarning: executable_path has been deprecated, please pass in a Service object\n",
      "  driver = webdriver.Chrome('/Users/newrandom/Desktop/파이썬 연습/challenge/chromedriver')\n"
     ]
    },
    {
     "name": "stdout",
     "output_type": "stream",
     "text": [
      "최신 회차 (1022)가 저장되어있습니다.\n"
     ]
    }
   ],
   "source": [
    "# import module\n",
    "import pandas as pd\n",
    "from selenium import * \n",
    "from selenium import webdriver\n",
    "from selenium.webdriver.common.by import By\n",
    "from selenium.webdriver.common.keys import Keys\n",
    "from selenium.webdriver.chrome.service import Service\n",
    "\n",
    "# read_csv\n",
    "dataframe = pd.read_csv('../result/lotto_result.csv', index_col = 0)\n",
    "latest_result = int(dataframe.iloc[-1].name)\n",
    "print('저장되어 있는 최신 회차 : {}회'.format(latest_result))\n",
    "\n",
    "# 로또 홈페이지 최신 회차 조회_1 : 홈페이지 접속\n",
    "service = Service('../chromedriver')        # == 추가 == # webdriver 의 service 활용\n",
    "url = 'https://www.dhlottery.co.kr/gameResult.do?method=byWin'\n",
    "driver = webdriver.Chrome(service=service)  # == 추가 == # 크롬드라이버 서비스 받아오기\n",
    "driver.get(url)\n",
    "\n",
    "# 로또 홈페이지 최신 회차 조회_2 : 최신회차조회\n",
    "new = int(driver.find_element(By.XPATH, '//*[@id=\"dwrNoList\"]').text.strip().split()[0])\n",
    "if new in dataframe.index:\n",
    "    print('최신 회차 ({})가 저장되어있습니다.'.format(new))\n",
    "\n",
    "# 로또 홈페이지 최신 회차 조회_3 : 최신회차 정보 업데이트 (미구현)\n",
    "if new not in dataframe.index:\n",
    "    print('최신 회차 ({})가 저장되어 있지 않습니다. (현재 저장되어있는 최신회차 : {}회)'.format(new, latest_result))\n",
    "    q = int(input('최신회차 정보를 업데이트 하시겠습니까? (1 : yes, 2: no)'))\n",
    "    if q == 1:\n",
    "        a = new - latest_result     # 최신회차 - 저장된 최신회차 : new > latest_result\n",
    "        # dataframe.loc[dataframe.index[-1]+1] = []\n",
    "        for i in range(latest_result+1, new+1):     # 저장된 최신회차+1 부터 신규 회차까지루프 > 데이터 저장\n",
    "            pass\n",
    "        \n",
    "        # < ============== 데이터를 저장하는 작동까지 넣을 것.\n",
    "\n",
    "\n",
    "driver.close()"
   ]
  },
  {
   "cell_type": "code",
   "execution_count": null,
   "metadata": {},
   "outputs": [],
   "source": [
    "driver.close()"
   ]
  },
  {
   "cell_type": "code",
   "execution_count": null,
   "metadata": {},
   "outputs": [],
   "source": []
  }
 ],
 "metadata": {
  "kernelspec": {
   "display_name": "practice310",
   "language": "python",
   "name": "practice310"
  },
  "language_info": {
   "codemirror_mode": {
    "name": "ipython",
    "version": 3
   },
   "file_extension": ".py",
   "mimetype": "text/x-python",
   "name": "python",
   "nbconvert_exporter": "python",
   "pygments_lexer": "ipython3",
   "version": "3.10.4"
  },
  "orig_nbformat": 4
 },
 "nbformat": 4,
 "nbformat_minor": 2
}
