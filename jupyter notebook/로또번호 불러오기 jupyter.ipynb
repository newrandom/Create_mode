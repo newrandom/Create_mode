{
 "cells": [
  {
   "cell_type": "markdown",
   "metadata": {},
   "source": [
    "# 로또번호 데이터 스크래핑\n"
   ]
  },
  {
   "cell_type": "code",
   "execution_count": 23,
   "metadata": {},
   "outputs": [],
   "source": [
    "import requests\n",
    "from bs4 import BeautifulSoup\n",
    "from selenium import webdriver\n",
    "from selenium.webdriver.common.by import By\n",
    "from selenium.webdriver.common.keys import Keys\n",
    "from selenium.webdriver.support.select import Select\n",
    "\n",
    "url = 'https://www.dhlottery.co.kr/gameResult.do?method=byWin'\n",
    "response = requests.get(url)\n",
    "html = response.text\n",
    "soup = BeautifulSoup(html, 'html.parser')"
   ]
  },
  {
   "cell_type": "code",
   "execution_count": 24,
   "metadata": {},
   "outputs": [
    {
     "name": "stdout",
     "output_type": "stream",
     "text": [
      "1 1022\n"
     ]
    }
   ],
   "source": [
    "# 로또회차 리스트\n",
    "lot_no = soup.find(id='dwrNoList').text.split('\\n')\n",
    "lot_no = lot_no[1:-1]\n",
    "print(lot_no[-1], lot_no[0])\n"
   ]
  },
  {
   "cell_type": "code",
   "execution_count": 40,
   "metadata": {},
   "outputs": [
    {
     "name": "stdout",
     "output_type": "stream",
     "text": [
      "1012\n",
      "1013\n",
      "1014\n",
      "1015\n",
      "1016\n",
      "1017\n",
      "1018\n",
      "1019\n",
      "1020\n"
     ]
    }
   ],
   "source": [
    "for i in lot_no[10:1:-1]:\n",
    "    print(i)"
   ]
  },
  {
   "cell_type": "code",
   "execution_count": 29,
   "metadata": {},
   "outputs": [
    {
     "name": "stderr",
     "output_type": "stream",
     "text": [
      "/var/folders/fd/5j5ym25j3gvbkwl_65fbg_2w0000gn/T/ipykernel_21906/1690351611.py:2: DeprecationWarning: executable_path has been deprecated, please pass in a Service object\n",
      "  driver = webdriver.Chrome('/Users/newrandom/Desktop/파이썬 연습/challenge/chromedriver')\n"
     ]
    }
   ],
   "source": [
    "# Chrome driver 실행\n",
    "driver = webdriver.Chrome('/Users/newrandom/Desktop/파이썬 연습/challenge/chromedriver')\n",
    "driver.get(url)"
   ]
  },
  {
   "cell_type": "code",
   "execution_count": 54,
   "metadata": {},
   "outputs": [
    {
     "ename": "TypeError",
     "evalue": "unhashable type: 'slice'",
     "output_type": "error",
     "traceback": [
      "\u001b[0;31m---------------------------------------------------------------------------\u001b[0m",
      "\u001b[0;31mTypeError\u001b[0m                                 Traceback (most recent call last)",
      "\u001b[1;32mUntitled-2.ipynb Cell 6'\u001b[0m in \u001b[0;36m<cell line: 22>\u001b[0;34m()\u001b[0m\n\u001b[1;32m     <a href='vscode-notebook-cell:Untitled-2.ipynb?jupyter-notebook#ch0000008untitled?line=18'>19</a>\u001b[0m         driver\u001b[39m.\u001b[39mimplicitly_wait(\u001b[39m3\u001b[39m)\n\u001b[1;32m     <a href='vscode-notebook-cell:Untitled-2.ipynb?jupyter-notebook#ch0000008untitled?line=19'>20</a>\u001b[0m     \u001b[39m# bo_num = '//*[@id=\"article\"]/div[2]/div/div[2]/div/div[2]/p/span'\u001b[39;00m\n\u001b[0;32m---> <a href='vscode-notebook-cell:Untitled-2.ipynb?jupyter-notebook#ch0000008untitled?line=21'>22</a>\u001b[0m df[:\u001b[39m5\u001b[39;49m]\n",
      "\u001b[0;31mTypeError\u001b[0m: unhashable type: 'slice'"
     ]
    }
   ],
   "source": [
    "# 로또 회차 조회\n",
    "df = {}\n",
    "for i in lot_no[::-1]:\n",
    "                # [start:end:term]\n",
    "\n",
    "    driver.find_element(By.XPATH, '//*[@id=\"dwrNoList\"]').send_keys(i)\n",
    "                            # 회차 리스트 선택하고 키 보내기\n",
    "    driver.find_element(By.XPATH, '//*[@id=\"searchBtn\"]').send_keys(Keys.ENTER)\n",
    "    driver.implicitly_wait(5)   # 브라우저 5초 대기\n",
    "\n",
    "    # ===== 로또번호 받아오기 ==== #\n",
    "    # 1. 회차정보 : i\n",
    "    # 2. 번호 받기\n",
    "    df[i] = []\n",
    "    for ball in range(1, 7):\n",
    "        ball_num = '//*[@id=\"article\"]/div[2]/div/div[2]/div/div[1]/p/span[{}]'.format(ball)\n",
    "\n",
    "        df[i].append(int(driver.find_element(By.XPATH, ball_num).text))\n",
    "        driver.implicitly_wait(3)\n",
    "    # bo_num = '//*[@id=\"article\"]/div[2]/div/div[2]/div/div[2]/p/span'"
   ]
  },
  {
   "cell_type": "code",
   "execution_count": 109,
   "metadata": {},
   "outputs": [],
   "source": [
    "# dataframe으로 저장하기\n",
    "import pandas as pd\n",
    "dataframe = pd.DataFrame(data=df)\n",
    "# dataframe.to_csv('lotto_result.csv')\n",
    "dataframe = dataframe.transpose()\n",
    "dataframe.to_csv('lotto_result.csv')\n",
    "dataframe.to_excel('lotto_result.xlsx')"
   ]
  },
  {
   "cell_type": "code",
   "execution_count": 110,
   "metadata": {},
   "outputs": [
    {
     "name": "stdout",
     "output_type": "stream",
     "text": [
      "<class 'pandas.core.frame.DataFrame'>\n",
      "Index: 1022 entries, 1 to 1022\n",
      "Data columns (total 6 columns):\n",
      " #   Column  Non-Null Count  Dtype\n",
      "---  ------  --------------  -----\n",
      " 0   0       1022 non-null   int64\n",
      " 1   1       1022 non-null   int64\n",
      " 2   2       1022 non-null   int64\n",
      " 3   3       1022 non-null   int64\n",
      " 4   4       1022 non-null   int64\n",
      " 5   5       1022 non-null   int64\n",
      "dtypes: int64(6)\n",
      "memory usage: 55.9+ KB\n"
     ]
    }
   ],
   "source": [
    "dataframe.info()"
   ]
  },
  {
   "cell_type": "markdown",
   "metadata": {},
   "source": [
    "-------------------\n",
    "# 최신회차 정보 가져오기 == python 파일로 만들 것"
   ]
  },
  {
   "cell_type": "code",
   "execution_count": 218,
   "metadata": {},
   "outputs": [
    {
     "name": "stdout",
     "output_type": "stream",
     "text": [
      "저장되어 있는 최신 회차 : 1022회\n"
     ]
    },
    {
     "name": "stderr",
     "output_type": "stream",
     "text": [
      "/var/folders/fd/5j5ym25j3gvbkwl_65fbg_2w0000gn/T/ipykernel_21906/820949709.py:15: DeprecationWarning: executable_path has been deprecated, please pass in a Service object\n",
      "  driver = webdriver.Chrome('/Users/newrandom/Desktop/파이썬 연습/challenge/chromedriver')\n"
     ]
    },
    {
     "name": "stdout",
     "output_type": "stream",
     "text": [
      "최신 회차 (1022)가 저장되어있습니다.\n"
     ]
    }
   ],
   "source": [
    "# import module\n",
    "import pandas as pd\n",
    "from selenium import * \n",
    "from selenium import webdriver\n",
    "from selenium.webdriver.common.by import By\n",
    "from selenium.webdriver.common.keys import Keys\n",
    "\n",
    "# read_csv\n",
    "dataframe = pd.read_csv('./lotto_project/result/lotto_result.csv', index_col = 0)\n",
    "latest_result = int(dataframe.iloc[-1].name)\n",
    "print('저장되어 있는 최신 회차 : {}회'.format(latest_result))\n",
    "\n",
    "# 로또 홈페이지 최신 회차 조회_1 : 홈페이지 접속\n",
    "url = 'https://www.dhlottery.co.kr/gameResult.do?method=byWin'\n",
    "driver = webdriver.Chrome('/Users/newrandom/Desktop/파이썬 연습/challenge/chromedriver')\n",
    "driver.get(url)\n",
    "\n",
    "# 로또 홈페이지 최신 회차 조회_2 : 최신회차조회\n",
    "new = int(driver.find_element(By.XPATH, '//*[@id=\"dwrNoList\"]').text.strip().split()[0])\n",
    "if new in dataframe.index:\n",
    "    print('최신 회차 ({})가 저장되어있습니다.'.format(new))\n",
    "\n",
    "# 로또 홈페이지 최신 회차 조회_3 : 최신회차 정보 업데이트 (미구현)\n",
    "if new not in dataframe.index:\n",
    "    print('최신 회차 ({})가 저장되어 있지 않습니다. (현재 저장되어있는 최신회차 : {}회)'.format(new, latest_result))\n",
    "    q = int(input('최신회차 정보를 업데이트 하시겠습니까? (1 : yes, 2: no)'))\n",
    "    if q == 1:\n",
    "        a = new - latest_result     # 최신회차 - 저장된 최신회차 : new > latest_result\n",
    "        # dataframe.loc[dataframe.index[-1]+1] = []\n",
    "        for i in range(latest_result+1, new+1):     # 저장된 최신회차+1 부터 신규 회차까지루프 > 데이터 저장\n",
    "            pass\n",
    "        \n",
    "        # < ============== 데이터를 저장하는 작동까지 넣을 것.\n",
    "\n",
    "\n",
    "driver.close()"
   ]
  },
  {
   "cell_type": "code",
   "execution_count": null,
   "metadata": {},
   "outputs": [],
   "source": [
    "driver.close()"
   ]
  },
  {
   "cell_type": "code",
   "execution_count": null,
   "metadata": {},
   "outputs": [],
   "source": []
  }
 ],
 "metadata": {
  "kernelspec": {
   "display_name": "practice310",
   "language": "python",
   "name": "practice310"
  },
  "language_info": {
   "codemirror_mode": {
    "name": "ipython",
    "version": 3
   },
   "file_extension": ".py",
   "mimetype": "text/x-python",
   "name": "python",
   "nbconvert_exporter": "python",
   "pygments_lexer": "ipython3",
   "version": "3.10.4"
  },
  "orig_nbformat": 4
 },
 "nbformat": 4,
 "nbformat_minor": 2
}
