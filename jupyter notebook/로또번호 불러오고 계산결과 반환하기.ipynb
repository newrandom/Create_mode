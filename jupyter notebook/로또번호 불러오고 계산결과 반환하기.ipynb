{
 "cells": [
  {
   "cell_type": "code",
   "execution_count": 1,
   "metadata": {},
   "outputs": [],
   "source": [
    "import requests\n",
    "from bs4 import BeautifulSoup\n",
    "\n",
    "url = 'https://www.dhlottery.co.kr/gameResult.do?method=statByNumber'\n",
    "html = requests.get(url).text\n",
    "soup = BeautifulSoup(html,'html.parser')"
   ]
  },
  {
   "cell_type": "code",
   "execution_count": 13,
   "metadata": {},
   "outputs": [
    {
     "name": "stdout",
     "output_type": "stream",
     "text": [
      "\n",
      "조회\n",
      "\n"
     ]
    }
   ],
   "source": [
    "tags = soup.select('#article > div:nth-child(2) > div > div.btns_submit.search')\n",
    "tag = tags[0]\n",
    "print(tag.text)"
   ]
  },
  {
   "cell_type": "code",
   "execution_count": 46,
   "metadata": {},
   "outputs": [
    {
     "name": "stderr",
     "output_type": "stream",
     "text": [
      "/var/folders/fd/5j5ym25j3gvbkwl_65fbg_2w0000gn/T/ipykernel_82578/3765399159.py:5: DeprecationWarning: executable_path has been deprecated, please pass in a Service object\n",
      "  driver = webdriver.Chrome('/Users/newrandom/Desktop/파이썬 연습/challenge/chromedriver')\n"
     ]
    },
    {
     "name": "stdout",
     "output_type": "stream",
     "text": [
      "test : 네이버 통합검색\n",
      "https://search.naver.com/search.naver?where=nexearch&sm=top_hty&fbm=0&ie=utf8&query=test\n"
     ]
    }
   ],
   "source": [
    "from selenium import webdriver\n",
    "from selenium.webdriver.common.keys import Keys\n",
    "from selenium.webdriver.common.by import By\n",
    "\n",
    "driver = webdriver.Chrome('/Users/newrandom/Desktop/파이썬 연습/challenge/chromedriver')\n",
    "driver.get('http://www.naver.com')\n",
    "driver.find_element(By.ID, 'query').send_keys('test', Keys.ENTER)\n",
    "                    # //*[@id=\"NM_NEWSSTAND_HEADER\"]/div[2]/a[3]\n",
    "# driver.implicitly_wait(3)\n",
    "# driver.get('http://www.naver.com')\n",
    "# driver.find_element(By.XPATH, '//*[@id=\"NM_NEWSSTAND_HEADER\"]/div[2]/a[3]').click()\n",
    "\n",
    "print(driver.title)\n",
    "print(driver.current_url)\n",
    "\n",
    "\n",
    "# driver.close()\n"
   ]
  },
  {
   "cell_type": "markdown",
   "metadata": {},
   "source": [
    "# ============================= #"
   ]
  },
  {
   "cell_type": "code",
   "execution_count": 109,
   "metadata": {},
   "outputs": [],
   "source": [
    "import requests\n",
    "from bs4 import BeautifulSoup\n",
    "from selenium import webdriver\n",
    "from selenium.webdriver.common.keys import Keys\n",
    "from selenium.webdriver.common.by import By\n",
    "\n",
    "url = 'https://www.dhlottery.co.kr/gameResult.do?method=statByNumber'\n",
    "response = requests.get(url)\n",
    "html = response.text\n",
    "\n",
    "soup = BeautifulSoup(html, 'html.parser')\n",
    "tags = soup.select('#sltBonus')"
   ]
  },
  {
   "cell_type": "code",
   "execution_count": 110,
   "metadata": {},
   "outputs": [
    {
     "name": "stderr",
     "output_type": "stream",
     "text": [
      "/var/folders/fd/5j5ym25j3gvbkwl_65fbg_2w0000gn/T/ipykernel_82578/1415170758.py:1: DeprecationWarning: executable_path has been deprecated, please pass in a Service object\n",
      "  driver = webdriver.Chrome('/Users/newrandom/Desktop/파이썬 연습/challenge/chromedriver')\n"
     ]
    }
   ],
   "source": [
    "driver = webdriver.Chrome('/Users/newrandom/Desktop/파이썬 연습/challenge/chromedriver')\n",
    "driver.get( 'https://www.dhlottery.co.kr/gameResult.do?method=statByNumber')\n",
    "\n",
    "driver.find_element(By.XPATH, '//*[@id=\"sltBonus\"]').send_keys('미포함')        # 보너스 번호 미포함옵션\n",
    "\n",
    "# =========== #\n",
    "start_xpath = '//*[@id=\"sttDrwNo\"]'     # 조회 시작회차\n",
    "end_xpath = '//*[@id=\"edDrwNo\"]'        # 조회 마지막회차\n",
    "# =========== #\n",
    "\n"
   ]
  },
  {
   "cell_type": "code",
   "execution_count": 137,
   "metadata": {},
   "outputs": [
    {
     "name": "stdout",
     "output_type": "stream",
     "text": [
      "조회 시작점 : 1013\n",
      "조회 끝점 : 1022\n"
     ]
    }
   ],
   "source": [
    "# =========== #\n",
    "start_xpath = '//*[@id=\"sttDrwNo\"]/option[10]'     # 조회 시작회차   (마지막 10회 전)\n",
    "end_xpath = '//*[@id=\"edDrwNo\"]/option[1]'        # 조회 마지막회차\n",
    "# =========== #\n",
    "\n",
    "end_num = driver.find_element(By.XPATH, end_xpath).text\n",
    "start_num = driver.find_element(By.XPATH, start_xpath).text\n",
    "\n",
    "end_num = int(end_num) ; start_num = int(start_num)\n",
    "# ================ #\n",
    "from selenium.webdriver.support.select import Select\n",
    "select_ = Select(driver.find_element(By.XPATH, '//*[@id=\"sttDrwNo\"]'))     # dropdown xpath 선택\n",
    "select_.select_by_index(9)       # 조회 시작회차 마지막 10회 전 선택, index라서 0부터 시작\n",
    "# select_.select_by_value('1')      # 조회 시작회차 첫회차 선택\n",
    "\n",
    "# from selenium.webdriver.support.ui import Select\n",
    "# select  = Select(driver.find_element(By.XPATH, '//*[@id=\"sttDrwNo\"]'))\n",
    "# select.select_by_index(10)\n",
    "print('조회 시작점 : {}'.format(start_num))\n",
    "print('조회 끝점 : {}'.format(end_num))"
   ]
  },
  {
   "cell_type": "code",
   "execution_count": 138,
   "metadata": {},
   "outputs": [],
   "source": [
    "# 조회 버튼 클릭 #\n",
    "search_button_xpath = '//*[@id=\"article\"]/div[2]/div/div[2]/a'\n",
    "driver.find_element(By.XPATH, search_button_xpath).click()"
   ]
  },
  {
   "cell_type": "code",
   "execution_count": 82,
   "metadata": {},
   "outputs": [],
   "source": [
    "# ball_no1 = '//*[@id=\"printTarget\"]/tbody/tr[1]/td[1]/span'\n",
    "# ball_no2 = '//*[@id=\"printTarget\"]/tbody/tr[2]/td[1]/span'\n",
    "# ball_no10 = '//*[@id=\"printTarget\"]/tbody/tr[10]/td[1]/span'\n",
    "# ball_no11 = '//*[@id=\"printTarget\"]/tbody/tr[11]/td[1]/span'\n",
    "# ball_no21 = '//*[@id=\"printTarget\"]/tbody/tr[21]/td[1]/span'\n",
    "# ball_no38 = '//*[@id=\"printTarget\"]/tbody/tr[38]/td[1]/span'\n",
    "# ball_no45 = '//*[@id=\"printTarget\"]/tbody/tr[45]/td[1]/span'\n",
    "# ball_noN = '//*[@id=\"printTarget\"]/tbody/tr[{n}]/td[1]/span'\n",
    "\n",
    "# ball_1_count = '//*[@id=\"printTarget\"]/tbody/tr[1]/td[3]'\n",
    "# ball_9_count = '//*[@id=\"printTarget\"]/tbody/tr[9]/td[3]'\n",
    "# ball_n_count = '//*[@id=\"printTarget\"]/tbody/tr[{}]/td[3]'\n",
    "# # ball_n_count = ball_n_count.format(2)\n",
    "# # print(ball_n_count)"
   ]
  },
  {
   "cell_type": "code",
   "execution_count": 139,
   "metadata": {},
   "outputs": [],
   "source": [
    "ball_n_out_count = '//*[@id=\"printTarget\"]/tbody/tr[{}]/td[3]'\n",
    "# driver.find_element(By.XPATH, ball_n_out_count.format(i))"
   ]
  },
  {
   "cell_type": "code",
   "execution_count": 140,
   "metadata": {},
   "outputs": [
    {
     "data": {
      "text/plain": [
       "dict_items([(1, 1), (2, 0), (3, 2), (4, 1), (5, 1), (6, 1), (7, 0), (8, 0), (9, 0), (10, 0), (11, 2), (12, 3), (13, 1), (14, 2), (15, 2), (16, 0), (17, 2), (18, 2), (19, 1), (20, 0), (21, 2), (22, 2), (23, 2), (24, 1), (25, 1), (26, 3), (27, 2), (28, 1), (29, 3), (30, 1), (31, 1), (32, 0), (33, 1), (34, 4), (35, 0), (36, 1), (37, 2), (38, 1), (39, 1), (40, 1), (41, 3), (42, 2), (43, 0), (44, 0), (45, 4)])"
      ]
     },
     "execution_count": 140,
     "metadata": {},
     "output_type": "execute_result"
    }
   ],
   "source": [
    "ball_count = {}\n",
    "for i in range(1, 46):\n",
    "    \n",
    "    # print('{}번째 공이 나온 횟수 : {}'.format(i, driver.find_element(\\\n",
    "    #     By.XPATH, ball_n_out_count.format(i)).text))\n",
    "    ball_count[i] = int(driver.find_element(By.XPATH, ball_n_out_count.format(i)).text)\n",
    "\n",
    "ball_count.items()\n",
    "    "
   ]
  },
  {
   "cell_type": "code",
   "execution_count": 141,
   "metadata": {},
   "outputs": [
    {
     "name": "stdout",
     "output_type": "stream",
     "text": [
      "60\n"
     ]
    }
   ],
   "source": [
    "v_count=0\n",
    "for i, v in ball_count.items():\n",
    "    v_count += v\n",
    "\n",
    "v_count = v_count\n",
    "print(v_count)"
   ]
  },
  {
   "cell_type": "code",
   "execution_count": 150,
   "metadata": {},
   "outputs": [
    {
     "name": "stdout",
     "output_type": "stream",
     "text": [
      "12 5.0\n",
      "26 5.0\n",
      "29 5.0\n",
      "34 7.000000000000001\n",
      "41 5.0\n",
      "45 7.000000000000001\n"
     ]
    }
   ],
   "source": [
    "# 4.0 이상 확률인 공들 조회\n",
    "\n",
    "for i, v in ball_count.items():\n",
    "    # if v / v_count > 0.6:\n",
    "    #     print(i, v)\n",
    "    # print(i, round(v/v_count,2)*100)\n",
    "    if round(v / v_count, 2)*100 >= 4.0:\n",
    "    # new_ball_line\n",
    "        print(i, round(v/v_count, 2)*100)\n",
    "        "
   ]
  },
  {
   "cell_type": "code",
   "execution_count": null,
   "metadata": {},
   "outputs": [],
   "source": [
    "# 로또 공 번호에 따른 추첨 횟수도 가져옴.\n",
    "# 남은건 ? 1. 당첨확률이 0 인 공들 제외, 2. 당첨확률 순으로 출력, 3. 당첨확률을 변수로 두고, 공별 확률 출력 \n",
    "# 이후 project에 연결하기"
   ]
  },
  {
   "cell_type": "code",
   "execution_count": 171,
   "metadata": {},
   "outputs": [],
   "source": [
    "# 1. 당첨확률 0인 공들 제외하고 딕셔너리 넣기\n",
    "k_per_ball = {} ; k = float(input())        # 전체 조회 : -1, 지정조회 : +.0 방식으로 조회\n",
    "for i, v in ball_count.items():\n",
    "    if round(v / v_count, 2)*100 > k:\n",
    "        # print(i, round(v/v_count, 2)*100)\n",
    "        k_per_ball[i] = round(v/v_count,2)*100\n"
   ]
  },
  {
   "cell_type": "code",
   "execution_count": 172,
   "metadata": {},
   "outputs": [
    {
     "data": {
      "text/plain": [
       "{1: 2.0,\n",
       " 3: 3.0,\n",
       " 4: 2.0,\n",
       " 5: 2.0,\n",
       " 6: 2.0,\n",
       " 11: 3.0,\n",
       " 12: 5.0,\n",
       " 13: 2.0,\n",
       " 14: 3.0,\n",
       " 15: 3.0,\n",
       " 17: 3.0,\n",
       " 18: 3.0,\n",
       " 19: 2.0,\n",
       " 21: 3.0,\n",
       " 22: 3.0,\n",
       " 23: 3.0,\n",
       " 24: 2.0,\n",
       " 25: 2.0,\n",
       " 26: 5.0,\n",
       " 27: 3.0,\n",
       " 28: 2.0,\n",
       " 29: 5.0,\n",
       " 30: 2.0,\n",
       " 31: 2.0,\n",
       " 33: 2.0,\n",
       " 34: 7.000000000000001,\n",
       " 36: 2.0,\n",
       " 37: 3.0,\n",
       " 38: 2.0,\n",
       " 39: 2.0,\n",
       " 40: 2.0,\n",
       " 41: 5.0,\n",
       " 42: 3.0,\n",
       " 45: 7.000000000000001}"
      ]
     },
     "execution_count": 172,
     "metadata": {},
     "output_type": "execute_result"
    }
   ],
   "source": [
    "k_per_ball"
   ]
  },
  {
   "cell_type": "code",
   "execution_count": null,
   "metadata": {},
   "outputs": [],
   "source": []
  },
  {
   "cell_type": "code",
   "execution_count": null,
   "metadata": {},
   "outputs": [],
   "source": []
  },
  {
   "cell_type": "code",
   "execution_count": null,
   "metadata": {},
   "outputs": [],
   "source": []
  },
  {
   "cell_type": "code",
   "execution_count": 108,
   "metadata": {},
   "outputs": [],
   "source": [
    "driver.close()"
   ]
  },
  {
   "cell_type": "code",
   "execution_count": null,
   "metadata": {},
   "outputs": [],
   "source": []
  }
 ],
 "metadata": {
  "kernelspec": {
   "display_name": "practice310",
   "language": "python",
   "name": "practice310"
  },
  "language_info": {
   "codemirror_mode": {
    "name": "ipython",
    "version": 3
   },
   "file_extension": ".py",
   "mimetype": "text/x-python",
   "name": "python",
   "nbconvert_exporter": "python",
   "pygments_lexer": "ipython3",
   "version": "3.10.4"
  },
  "orig_nbformat": 4,
  "vscode": {
   "interpreter": {
    "hash": "aee8b7b246df8f9039afb4144a1f6fd8d2ca17a180786b69acc140d282b71a49"
   }
  }
 },
 "nbformat": 4,
 "nbformat_minor": 2
}
